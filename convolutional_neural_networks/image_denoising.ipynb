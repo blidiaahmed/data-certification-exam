{
 "cells": [
  {
   "cell_type": "markdown",
   "id": "39f80cd6",
   "metadata": {},
   "source": [
    "# Image Denoising Challenge\n",
    "\n",
    "The goal for this challenge is to leverage your knowledge of Deep Learning to design and train a denoising model. For a given noisy image $X$, our model should learn to predict the denoised image $y$.\n",
    "\n",
    "\n",
    "**Objectives**\n",
    "- Visualize images\n",
    "- Preprocess images for the neural network\n",
    "- Fit a custom CNN for the task"
   ]
  },
  {
   "cell_type": "markdown",
   "id": "7cd67a8f",
   "metadata": {},
   "source": [
    "## 1. Load Data\n",
    "\n",
    "👉 Let's download the dataset archive.\n",
    "It contains RGB and Black & White images we will be using for the rest of this challenge."
   ]
  },
  {
   "cell_type": "code",
   "execution_count": 1,
   "id": "c67d9e72",
   "metadata": {
    "ExecuteTime": {
     "end_time": "2021-06-17T13:12:44.663623Z",
     "start_time": "2021-06-17T13:12:35.284111Z"
    }
   },
   "outputs": [
    {
     "name": "stdout",
     "output_type": "stream",
     "text": [
      "  % Total    % Received % Xferd  Average Speed   Time    Time     Time  Current\n",
      "                                 Dload  Upload   Total   Spent    Left  Speed\n",
      "100 90.1M  100 90.1M    0     0  4752k      0  0:00:19  0:00:19 --:--:-- 4676k\n",
      "total 88\n",
      "-rw-r--r-- 1 ahmedblidia ahmedblidia 20937 Jun 30 09:05 image_denoising.ipynb\n",
      "-rw-r--r-- 1 ahmedblidia ahmedblidia   122 Jun 30 09:05 image_denoising.ipynb:Zone.Identifier\n",
      "drwx------ 2 ahmedblidia ahmedblidia 57344 Jun  9 15:06 paintings\n",
      "-rw-r--r-- 1 ahmedblidia ahmedblidia     0 Jun 29 09:19 README.md\n",
      "drwxr-xr-x 2 ahmedblidia ahmedblidia  4096 Jun 29 09:19 tests\n"
     ]
    }
   ],
   "source": [
    "! curl https://wagon-public-datasets.s3.amazonaws.com/certification_france_2021_q2/paintings.zip > paintings.zip\n",
    "! unzip -nq \"paintings.zip\" \n",
    "! rm \"paintings.zip\"\n",
    "! ls -l"
   ]
  },
  {
   "cell_type": "code",
   "execution_count": 3,
   "id": "a56b0684",
   "metadata": {
    "ExecuteTime": {
     "end_time": "2021-06-22T16:29:50.068129Z",
     "start_time": "2021-06-22T16:29:50.031812Z"
    }
   },
   "outputs": [
    {
     "data": {
      "text/plain": [
       "['./paintings/Kazimir_Malevich_13.jpg',\n",
       " './paintings/Jan_van_Eyck_15.jpg',\n",
       " './paintings/Albrecht_Duâ\\x95\\xa0Ãªrer_34.jpg',\n",
       " './paintings/Edgar_Degas_271.jpg',\n",
       " './paintings/Titian_45.jpg',\n",
       " './paintings/Paul_Gauguin_65.jpg',\n",
       " './paintings/Andy_Warhol_89.jpg',\n",
       " './paintings/Pierre-Auguste_Renoir_151.jpg',\n",
       " './paintings/Pablo_Picasso_120.jpg',\n",
       " './paintings/Vincent_van_Gogh_305.jpg',\n",
       " './paintings/Pablo_Picasso_186.jpg',\n",
       " './paintings/Pablo_Picasso_63.jpg',\n",
       " './paintings/Albrecht_DuÌ\\x88rer_244.jpg',\n",
       " './paintings/Frida_Kahlo_87.jpg',\n",
       " './paintings/Vincent_van_Gogh_558.jpg',\n",
       " './paintings/Pablo_Picasso_14.jpg',\n",
       " './paintings/Rene_Magritte_94.jpg',\n",
       " './paintings/El_Greco_63.jpg',\n",
       " './paintings/Gustav_Klimt_104.jpg',\n",
       " './paintings/Paul_Gauguin_12.jpg',\n",
       " './paintings/Vasiliy_Kandinskiy_57.jpg',\n",
       " './paintings/Edgar_Degas_228.jpg',\n",
       " './paintings/Marc_Chagall_101.jpg',\n",
       " './paintings/Pierre-Auguste_Renoir_57.jpg',\n",
       " './paintings/Leonardo_da_Vinci_50.jpg',\n",
       " './paintings/Rene_Magritte_50.jpg',\n",
       " './paintings/Sandro_Botticelli_164.jpg',\n",
       " './paintings/Henri_Matisse_186.jpg',\n",
       " './paintings/Pablo_Picasso_272.jpg',\n",
       " './paintings/Edgar_Degas_538.jpg',\n",
       " './paintings/Paul_Gauguin_25.jpg',\n",
       " './paintings/Edgar_Degas_516.jpg',\n",
       " './paintings/Paul_Gauguin_50.jpg',\n",
       " './paintings/Peter_Paul_Rubens_134.jpg',\n",
       " './paintings/Diego_Rivera_3.jpg',\n",
       " './paintings/Francisco_Goya_87.jpg',\n",
       " './paintings/Francisco_Goya_278.jpg',\n",
       " './paintings/Francisco_Goya_43.jpg',\n",
       " './paintings/Andy_Warhol_122.jpg',\n",
       " './paintings/Pablo_Picasso_113.jpg',\n",
       " './paintings/Rembrandt_145.jpg',\n",
       " './paintings/Frida_Kahlo_14.jpg',\n",
       " './paintings/Mikhail_Vrubel_99.jpg',\n",
       " './paintings/Vasiliy_Kandinskiy_4.jpg',\n",
       " './paintings/Pablo_Picasso_438.jpg',\n",
       " './paintings/Alfred_Sisley_150.jpg',\n",
       " './paintings/Leonardo_da_Vinci_72.jpg',\n",
       " './paintings/Amedeo_Modigliani_52.jpg',\n",
       " './paintings/Francisco_Goya_155.jpg',\n",
       " './paintings/Albrecht_DuÌ\\x88rer_301.jpg',\n",
       " './paintings/Vincent_van_Gogh_587.jpg',\n",
       " './paintings/Eugene_Delacroix_28.jpg',\n",
       " './paintings/Vincent_van_Gogh_471.jpg',\n",
       " './paintings/Raphael_43.jpg',\n",
       " './paintings/Raphael_21.jpg',\n",
       " './paintings/Albrecht_Duâ\\x95\\xa0Ãªrer_158.jpg',\n",
       " './paintings/Frida_Kahlo_21.jpg',\n",
       " './paintings/Vincent_van_Gogh_327.jpg',\n",
       " './paintings/Paul_Klee_130.jpg',\n",
       " './paintings/Alfred_Sisley_136.jpg',\n",
       " './paintings/Rembrandt_253.jpg',\n",
       " './paintings/Albrecht_DuÌ\\x88rer_129.jpg',\n",
       " './paintings/William_Turner_52.jpg',\n",
       " './paintings/Vincent_van_Gogh_752.jpg',\n",
       " './paintings/Edgar_Degas_68.jpg',\n",
       " './paintings/Andrei_Rublev_71.jpg',\n",
       " './paintings/Raphael_58.jpg',\n",
       " './paintings/Andrei_Rublev_28.jpg',\n",
       " './paintings/Henri_de_Toulouse-Lautrec_60.jpg',\n",
       " './paintings/Andy_Warhol_67.jpg',\n",
       " './paintings/Albrecht_DuÌ\\x88rer_316.jpg',\n",
       " './paintings/Pablo_Picasso_409.jpg',\n",
       " './paintings/Leonardo_da_Vinci_87.jpg',\n",
       " './paintings/Hieronymus_Bosch_61.jpg',\n",
       " './paintings/Vincent_van_Gogh_198.jpg',\n",
       " './paintings/Sandro_Botticelli_88.jpg',\n",
       " './paintings/Edgar_Degas_488.jpg',\n",
       " './paintings/Eugene_Delacroix_6.jpg',\n",
       " './paintings/Paul_Cezanne_17.jpg',\n",
       " './paintings/Alfred_Sisley_187.jpg',\n",
       " './paintings/Diego_Velazquez_117.jpg',\n",
       " './paintings/Albrecht_Duâ\\x95\\xa0Ãªrer_78.jpg',\n",
       " './paintings/Paul_Gauguin_245.jpg',\n",
       " './paintings/Gustav_Klimt_111.jpg',\n",
       " './paintings/Claude_Monet_48.jpg',\n",
       " './paintings/Piet_Mondrian_34.jpg',\n",
       " './paintings/Edgar_Degas_675.jpg',\n",
       " './paintings/Camille_Pissarro_20.jpg',\n",
       " './paintings/Rembrandt_138.jpg',\n",
       " './paintings/Amedeo_Modigliani_126.jpg',\n",
       " './paintings/Pablo_Picasso_27.jpg',\n",
       " './paintings/Gustave_Courbet_24.jpg',\n",
       " './paintings/Mikhail_Vrubel_116.jpg',\n",
       " './paintings/Paul_Gauguin_100.jpg',\n",
       " './paintings/Joan_Miro_48.jpg',\n",
       " './paintings/Albrecht_DuÌ\\x88rer_49.jpg',\n",
       " './paintings/Peter_Paul_Rubens_4.jpg',\n",
       " './paintings/Henri_Matisse_68.jpg',\n",
       " './paintings/William_Turner_30.jpg',\n",
       " './paintings/Gustav_Klimt_85.jpg',\n",
       " './paintings/Marc_Chagall_231.jpg',\n",
       " './paintings/Gustave_Courbet_39.jpg',\n",
       " './paintings/Paul_Klee_181.jpg',\n",
       " './paintings/Albrecht_Duâ\\x95\\xa0Ãªrer_251.jpg',\n",
       " './paintings/Paul_Gauguin_188.jpg',\n",
       " './paintings/Vincent_van_Gogh_695.jpg',\n",
       " './paintings/Hieronymus_Bosch_32.jpg',\n",
       " './paintings/Kazimir_Malevich_4.jpg',\n",
       " './paintings/Pierre-Auguste_Renoir_274.jpg',\n",
       " './paintings/Edvard_Munch_15.jpg',\n",
       " './paintings/Pierre-Auguste_Renoir_252.jpg',\n",
       " './paintings/Alfred_Sisley_165.jpg',\n",
       " './paintings/Mikhail_Vrubel_101.jpg',\n",
       " './paintings/Pablo_Picasso_49.jpg',\n",
       " './paintings/Leonardo_da_Vinci_36.jpg',\n",
       " './paintings/Paul_Klee_138.jpg',\n",
       " './paintings/Paul_Klee_167.jpg',\n",
       " './paintings/Francisco_Goya_212.jpg',\n",
       " './paintings/Mikhail_Vrubel_145.jpg',\n",
       " './paintings/Camille_Pissarro_42.jpg',\n",
       " './paintings/Andy_Warhol_115.jpg',\n",
       " './paintings/Paul_Gauguin_209.jpg',\n",
       " './paintings/Pieter_Bruegel_108.jpg',\n",
       " './paintings/Andrei_Rublev_79.jpg',\n",
       " './paintings/Kazimir_Malevich_71.jpg',\n",
       " './paintings/Rembrandt_123.jpg',\n",
       " './paintings/Claude_Monet_11.jpg',\n",
       " './paintings/Amedeo_Modigliani_67.jpg',\n",
       " './paintings/William_Turner_6.jpg',\n",
       " './paintings/Sandro_Botticelli_80.jpg',\n",
       " './paintings/Giotto_di_Bondone_49.jpg',\n",
       " './paintings/Edgar_Degas_596.jpg',\n",
       " './paintings/Albrecht_DuÌ\\x88rer_158.jpg',\n",
       " './paintings/Rene_Magritte_147.jpg',\n",
       " './paintings/Albrecht_DuÌ\\x88rer_165.jpg',\n",
       " './paintings/Pieter_Bruegel_88.jpg',\n",
       " './paintings/Francisco_Goya_263.jpg',\n",
       " './paintings/Peter_Paul_Rubens_20.jpg',\n",
       " './paintings/Albrecht_Duâ\\x95\\xa0Ãªrer_49.jpg',\n",
       " './paintings/Edgar_Degas_350.jpg',\n",
       " './paintings/Sandro_Botticelli_51.jpg',\n",
       " './paintings/Albrecht_Duâ\\x95\\xa0Ãªrer_288.jpg',\n",
       " './paintings/Mikhail_Vrubel_55.jpg',\n",
       " './paintings/Henri_Rousseau_36.jpg',\n",
       " './paintings/Marc_Chagall_20.jpg',\n",
       " './paintings/Edgar_Degas_321.jpg',\n",
       " './paintings/Edgar_Degas_192.jpg',\n",
       " './paintings/Vincent_van_Gogh_75.jpg',\n",
       " './paintings/Marc_Chagall_181.jpg',\n",
       " './paintings/Alfred_Sisley_208.jpg',\n",
       " './paintings/Andy_Warhol_30.jpg',\n",
       " './paintings/Paul_Klee_90.jpg',\n",
       " './paintings/Jan_van_Eyck_73.jpg',\n",
       " './paintings/Rene_Magritte_58.jpg',\n",
       " './paintings/Titian_102.jpg',\n",
       " './paintings/Amedeo_Modigliani_30.jpg',\n",
       " './paintings/Salvador_Dali_19.jpg',\n",
       " './paintings/Rembrandt_202.jpg',\n",
       " './paintings/Joan_Miro_40.jpg',\n",
       " './paintings/Paul_Gauguin_122.jpg',\n",
       " './paintings/Leonardo_da_Vinci_43.jpg',\n",
       " './paintings/Vincent_van_Gogh_125.jpg',\n",
       " './paintings/Pablo_Picasso_70.jpg',\n",
       " './paintings/Albrecht_Duâ\\x95\\xa0Ãªrer_114.jpg',\n",
       " './paintings/Amedeo_Modigliani_74.jpg',\n",
       " './paintings/Andy_Warhol_108.jpg',\n",
       " './paintings/Alfred_Sisley_97.jpg',\n",
       " './paintings/Vincent_van_Gogh_831.jpg',\n",
       " './paintings/Claude_Monet_40.jpg',\n",
       " './paintings/Piet_Mondrian_63.jpg',\n",
       " './paintings/Vincent_van_Gogh_767.jpg',\n",
       " './paintings/Alfred_Sisley_251.jpg',\n",
       " './paintings/Paul_Gauguin_36.jpg',\n",
       " './paintings/Albrecht_DuÌ\\x88rer_288.jpg',\n",
       " './paintings/Andy_Warhol_173.jpg',\n",
       " './paintings/Mikhail_Vrubel_26.jpg',\n",
       " './paintings/Kazimir_Malevich_64.jpg',\n",
       " './paintings/Sandro_Botticelli_157.jpg',\n",
       " './paintings/Pablo_Picasso_359.jpg',\n",
       " './paintings/Edgar_Degas_473.jpg',\n",
       " './paintings/Francisco_Goya_205.jpg',\n",
       " './paintings/Alfred_Sisley_60.jpg',\n",
       " './paintings/Albrecht_Duâ\\x95\\xa0Ãªrer_92.jpg',\n",
       " './paintings/Alfred_Sisley_114.jpg',\n",
       " './paintings/Peter_Paul_Rubens_57.jpg',\n",
       " './paintings/Titian_96.jpg',\n",
       " './paintings/Marc_Chagall_44.jpg',\n",
       " './paintings/Edouard_Manet_17.jpg',\n",
       " './paintings/Titian_89.jpg',\n",
       " './paintings/Paul_Gauguin_7.jpg',\n",
       " './paintings/Albrecht_Duâ\\x95\\xa0Ãªrer_215.jpg',\n",
       " './paintings/Rene_Magritte_183.jpg',\n",
       " './paintings/Pierre-Auguste_Renoir_159.jpg',\n",
       " './paintings/Paul_Cezanne_46.jpg',\n",
       " './paintings/Albrecht_DuÌ\\x88rer_259.jpg',\n",
       " './paintings/Titian_210.jpg',\n",
       " './paintings/Paul_Klee_152.jpg',\n",
       " './paintings/Paul_Gauguin_43.jpg',\n",
       " './paintings/Rembrandt_74.jpg',\n",
       " './paintings/Edgar_Degas_552.jpg',\n",
       " './paintings/Georges_Seurat_8.jpg',\n",
       " './paintings/Paul_Gauguin_166.jpg',\n",
       " './paintings/Edgar_Degas_639.jpg',\n",
       " './paintings/Pieter_Bruegel_15.jpg',\n",
       " './paintings/Albrecht_Duâ\\x95\\xa0Ãªrer_295.jpg',\n",
       " './paintings/Titian_218.jpg',\n",
       " './paintings/Kazimir_Malevich_57.jpg',\n",
       " './paintings/Vincent_van_Gogh_514.jpg',\n",
       " './paintings/Peter_Paul_Rubens_105.jpg',\n",
       " './paintings/Pablo_Picasso_179.jpg',\n",
       " './paintings/Andy_Warhol_137.jpg',\n",
       " './paintings/Gustav_Klimt_92.jpg',\n",
       " './paintings/Titian_81.jpg',\n",
       " './paintings/Vincent_van_Gogh_846.jpg',\n",
       " './paintings/Marc_Chagall_95.jpg',\n",
       " './paintings/Henri_Matisse_97.jpg',\n",
       " './paintings/Vasiliy_Kandinskiy_79.jpg',\n",
       " './paintings/Amedeo_Modigliani_155.jpg',\n",
       " './paintings/Raphael_36.jpg',\n",
       " './paintings/Salvador_Dali_48.jpg',\n",
       " './paintings/Marc_Chagall_66.jpg',\n",
       " './paintings/Edgar_Degas_602.jpg',\n",
       " './paintings/Vincent_van_Gogh_312.jpg',\n",
       " './paintings/Sandro_Botticelli_73.jpg',\n",
       " './paintings/Pieter_Bruegel_37.jpg',\n",
       " './paintings/Alfred_Sisley_68.jpg',\n",
       " './paintings/Vincent_van_Gogh_774.jpg',\n",
       " './paintings/Pierre-Auguste_Renoir_201.jpg',\n",
       " './paintings/Edgar_Degas_617.jpg',\n",
       " './paintings/Vincent_van_Gogh_420.jpg',\n",
       " './paintings/Edgar_Degas_372.jpg',\n",
       " './paintings/Kazimir_Malevich_93.jpg',\n",
       " './paintings/Henri_Rousseau_21.jpg',\n",
       " './paintings/Michelangelo_41.jpg',\n",
       " './paintings/Paul_Klee_101.jpg',\n",
       " './paintings/Marc_Chagall_224.jpg',\n",
       " './paintings/Albrecht_DuÌ\\x88rer_200.jpg',\n",
       " './paintings/Edgar_Degas_141.jpg',\n",
       " './paintings/Giotto_di_Bondone_9.jpg',\n",
       " './paintings/Titian_23.jpg',\n",
       " './paintings/Vincent_van_Gogh_413.jpg',\n",
       " './paintings/Vincent_van_Gogh_644.jpg',\n",
       " './paintings/Henri_de_Toulouse-Lautrec_46.jpg',\n",
       " './paintings/Jackson_Pollock_15.jpg',\n",
       " './paintings/Rembrandt_260.jpg',\n",
       " './paintings/Albrecht_Duâ\\x95\\xa0Ãªrer_208.jpg',\n",
       " './paintings/Marc_Chagall_123.jpg',\n",
       " './paintings/Edgar_Degas_365.jpg',\n",
       " './paintings/Rene_Magritte_154.jpg',\n",
       " './paintings/Albrecht_Duâ\\x95\\xa0Ãªrer_107.jpg',\n",
       " './paintings/Edgar_Degas_581.jpg',\n",
       " './paintings/Albrecht_DuÌ\\x88rer_295.jpg',\n",
       " './paintings/Paul_Gauguin_144.jpg',\n",
       " './paintings/Pablo_Picasso_315.jpg',\n",
       " './paintings/Edgar_Degas_415.jpg',\n",
       " './paintings/Paul_Cezanne_31.jpg',\n",
       " './paintings/Francisco_Goya_111.jpg',\n",
       " './paintings/Gustav_Klimt_34.jpg',\n",
       " './paintings/Giotto_di_Bondone_1.jpg',\n",
       " './paintings/Pierre-Auguste_Renoir_144.jpg',\n",
       " './paintings/Vincent_van_Gogh_169.jpg',\n",
       " './paintings/Henri_Matisse_128.jpg',\n",
       " './paintings/Andrei_Rublev_20.jpg',\n",
       " './paintings/Paul_Gauguin_151.jpg',\n",
       " './paintings/Albrecht_DuÌ\\x88rer_107.jpg',\n",
       " './paintings/Georges_Seurat_33.jpg',\n",
       " './paintings/Claude_Monet_33.jpg',\n",
       " './paintings/Amedeo_Modigliani_111.jpg',\n",
       " './paintings/Hieronymus_Bosch_135.jpg',\n",
       " './paintings/Marc_Chagall_116.jpg',\n",
       " './paintings/Albrecht_DuÌ\\x88rer_280.jpg',\n",
       " './paintings/Edvard_Munch_59.jpg',\n",
       " './paintings/Albrecht_DuÌ\\x88rer_34.jpg',\n",
       " './paintings/Pierre-Auguste_Renoir_71.jpg',\n",
       " './paintings/Albrecht_Duâ\\x95\\xa0Ãªrer_273.jpg',\n",
       " './paintings/Andrei_Rublev_64.jpg',\n",
       " './paintings/Rembrandt_189.jpg',\n",
       " './paintings/Albrecht_DuÌ\\x88rer_121.jpg',\n",
       " './paintings/Leonardo_da_Vinci_108.jpg',\n",
       " './paintings/Salvador_Dali_77.jpg',\n",
       " './paintings/Rene_Magritte_72.jpg',\n",
       " './paintings/Eugene_Delacroix_13.jpg',\n",
       " './paintings/Vincent_van_Gogh_789.jpg',\n",
       " './paintings/Giotto_di_Bondone_106.jpg',\n",
       " './paintings/Albrecht_DuÌ\\x88rer_136.jpg',\n",
       " './paintings/Jackson_Pollock_22.jpg',\n",
       " './paintings/Pablo_Picasso_106.jpg',\n",
       " './paintings/Vincent_van_Gogh_723.jpg',\n",
       " './paintings/Pablo_Picasso_128.jpg',\n",
       " './paintings/Vasiliy_Kandinskiy_28.jpg',\n",
       " './paintings/Edgar_Degas_235.jpg',\n",
       " './paintings/Pablo_Picasso_236.jpg',\n",
       " './paintings/Edvard_Munch_37.jpg',\n",
       " './paintings/Vincent_van_Gogh_479.jpg',\n",
       " './paintings/Michelangelo_27.jpg',\n",
       " './paintings/Vincent_van_Gogh_600.jpg',\n",
       " './paintings/Vincent_van_Gogh_211.jpg',\n",
       " './paintings/Peter_Paul_Rubens_86.jpg',\n",
       " './paintings/Mikhail_Vrubel_6.jpg',\n",
       " './paintings/Peter_Paul_Rubens_28.jpg',\n",
       " './paintings/Edgar_Degas_574.jpg',\n",
       " './paintings/Vincent_van_Gogh_226.jpg',\n",
       " './paintings/Titian_197.jpg',\n",
       " './paintings/Pablo_Picasso_243.jpg',\n",
       " './paintings/Titian_225.jpg',\n",
       " './paintings/Giotto_di_Bondone_113.jpg',\n",
       " './paintings/Andy_Warhol_23.jpg',\n",
       " './paintings/Rene_Magritte_103.jpg',\n",
       " './paintings/Francisco_Goya_270.jpg',\n",
       " './paintings/Albrecht_Duâ\\x95\\xa0Ãªrer_301.jpg',\n",
       " './paintings/Vincent_van_Gogh_839.jpg',\n",
       " './paintings/Rene_Magritte_65.jpg',\n",
       " './paintings/Edgar_Degas_24.jpg',\n",
       " './paintings/Vincent_van_Gogh_62.jpg',\n",
       " './paintings/Gustav_Klimt_41.jpg',\n",
       " './paintings/Albrecht_DuÌ\\x88rer_172.jpg',\n",
       " './paintings/Vasiliy_Kandinskiy_86.jpg',\n",
       " './paintings/Pablo_Picasso_32.jpg',\n",
       " './paintings/Alfred_Sisley_121.jpg',\n",
       " './paintings/Georges_Seurat_11.jpg',\n",
       " './paintings/Titian_131.jpg',\n",
       " './paintings/Marc_Chagall_37.jpg',\n",
       " './paintings/Titian_247.jpg',\n",
       " './paintings/Albrecht_DuÌ\\x88rer_237.jpg',\n",
       " './paintings/Henri_Matisse_157.jpg',\n",
       " './paintings/Pierre-Auguste_Renoir_42.jpg',\n",
       " './paintings/Giotto_di_Bondone_27.jpg',\n",
       " './paintings/Edgar_Degas_149.jpg',\n",
       " './paintings/Diego_Velazquez_102.jpg',\n",
       " './paintings/Edouard_Manet_24.jpg',\n",
       " './paintings/Albrecht_Duâ\\x95\\xa0Ãªrer_17.jpg',\n",
       " './paintings/Kazimir_Malevich_120.jpg',\n",
       " './paintings/Edgar_Degas_336.jpg',\n",
       " './paintings/Caravaggio_18.jpg',\n",
       " './paintings/Francisco_Goya_36.jpg',\n",
       " './paintings/Rembrandt_15.jpg',\n",
       " './paintings/Pablo_Picasso_1.jpg',\n",
       " './paintings/Edouard_Manet_39.jpg',\n",
       " './paintings/Georges_Seurat_26.jpg',\n",
       " './paintings/Vincent_van_Gogh_716.jpg',\n",
       " './paintings/Piet_Mondrian_27.jpg',\n",
       " './paintings/Giotto_di_Bondone_70.jpg',\n",
       " './paintings/Amedeo_Modigliani_133.jpg',\n",
       " './paintings/Hieronymus_Bosch_47.jpg',\n",
       " './paintings/Mikhail_Vrubel_40.jpg',\n",
       " './paintings/Kazimir_Malevich_86.jpg',\n",
       " './paintings/Raphael_7.jpg',\n",
       " './paintings/Henri_Matisse_8.jpg',\n",
       " './paintings/Pierre-Auguste_Renoir_317.jpg',\n",
       " './paintings/Pierre-Auguste_Renoir_296.jpg',\n",
       " './paintings/Albrecht_DuÌ\\x88rer_9.jpg',\n",
       " './paintings/Camille_Pissarro_28.jpg',\n",
       " './paintings/Edgar_Degas_242.jpg',\n",
       " './paintings/Francisco_Goya_16.jpg',\n",
       " './paintings/Pierre-Auguste_Renoir_93.jpg',\n",
       " './paintings/Edgar_Degas_682.jpg',\n",
       " './paintings/Titian_203.jpg',\n",
       " './paintings/Joan_Miro_6.jpg',\n",
       " './paintings/Raphael_72.jpg',\n",
       " './paintings/Vasiliy_Kandinskiy_13.jpg',\n",
       " './paintings/Edgar_Degas_329.jpg',\n",
       " './paintings/Kazimir_Malevich_42.jpg',\n",
       " './paintings/Diego_Rivera_25.jpg',\n",
       " './paintings/Kazimir_Malevich_35.jpg',\n",
       " './paintings/Edgar_Degas_70.jpg',\n",
       " './paintings/Francisco_Goya_234.jpg',\n",
       " './paintings/Edgar_Degas_530.jpg',\n",
       " './paintings/Peter_Paul_Rubens_112.jpg',\n",
       " './paintings/Edgar_Degas_451.jpg',\n",
       " './paintings/Pablo_Picasso_250.jpg',\n",
       " './paintings/Edgar_Degas_60.jpg',\n",
       " './paintings/Andrei_Rublev_35.jpg',\n",
       " './paintings/Pablo_Picasso_287.jpg',\n",
       " './paintings/El_Greco_49.jpg',\n",
       " './paintings/Marc_Chagall_138.jpg',\n",
       " './paintings/Frida_Kahlo_65.jpg',\n",
       " './paintings/Francisco_Goya_65.jpg',\n",
       " './paintings/Vincent_van_Gogh_13.jpg',\n",
       " './paintings/Leonardo_da_Vinci_137.jpg',\n",
       " './paintings/Alfred_Sisley_237.jpg',\n",
       " './paintings/Rembrandt_45.jpg',\n",
       " './paintings/Albrecht_DuÌ\\x88rer_114.jpg',\n",
       " './paintings/Marc_Chagall_73.jpg',\n",
       " './paintings/Raphael_106.jpg',\n",
       " './paintings/Vincent_van_Gogh_457.jpg',\n",
       " './paintings/Vincent_van_Gogh_392.jpg',\n",
       " './paintings/Rene_Magritte_7.jpg',\n",
       " './paintings/Rembrandt_174.jpg',\n",
       " './paintings/Raphael_50.jpg',\n",
       " './paintings/Rene_Magritte_110.jpg',\n",
       " './paintings/Michelangelo_12.jpg',\n",
       " './paintings/Alfred_Sisley_172.jpg',\n",
       " './paintings/Rene_Magritte_190.jpg',\n",
       " './paintings/El_Greco_41.jpg',\n",
       " './paintings/Piet_Mondrian_8.jpg',\n",
       " './paintings/Giotto_di_Bondone_85.jpg',\n",
       " './paintings/Pablo_Picasso_258.jpg',\n",
       " './paintings/Vincent_van_Gogh_745.jpg',\n",
       " './paintings/Kazimir_Malevich_20.jpg',\n",
       " './paintings/Edgar_Degas_257.jpg',\n",
       " './paintings/Gustav_Klimt_9.jpg',\n",
       " './paintings/Vincent_van_Gogh_378.jpg',\n",
       " './paintings/Paul_Klee_54.jpg',\n",
       " './paintings/Rembrandt_52.jpg',\n",
       " './paintings/Titian_5.jpg',\n",
       " './paintings/Pablo_Picasso_395.jpg',\n",
       " './paintings/Salvador_Dali_123.jpg',\n",
       " './paintings/Andy_Warhol_96.jpg',\n",
       " './paintings/Edgar_Degas_358.jpg',\n",
       " './paintings/Francisco_Goya_241.jpg',\n",
       " './paintings/Leonardo_da_Vinci_94.jpg',\n",
       " './paintings/Francisco_Goya_119.jpg',\n",
       " './paintings/Edgar_Degas_264.jpg',\n",
       " './paintings/Alfred_Sisley_31.jpg',\n",
       " './paintings/Henri_de_Toulouse-Lautrec_68.jpg',\n",
       " './paintings/Rembrandt_101.jpg',\n",
       " './paintings/Kazimir_Malevich_106.jpg',\n",
       " './paintings/Henri_Matisse_113.jpg',\n",
       " './paintings/Titian_146.jpg',\n",
       " './paintings/Paul_Gauguin_72.jpg',\n",
       " './paintings/Vincent_van_Gogh_219.jpg',\n",
       " './paintings/Paul_Klee_25.jpg',\n",
       " './paintings/Caravaggio_54.jpg',\n",
       " './paintings/Mikhail_Vrubel_152.jpg',\n",
       " './paintings/Henri_de_Toulouse-Lautrec_8.jpg',\n",
       " './paintings/Mikhail_Vrubel_91.jpg',\n",
       " './paintings/Pieter_Bruegel_51.jpg',\n",
       " './paintings/Giotto_di_Bondone_92.jpg',\n",
       " './paintings/Vincent_van_Gogh_572.jpg',\n",
       " './paintings/Salvador_Dali_33.jpg',\n",
       " './paintings/Salvador_Dali_40.jpg',\n",
       " './paintings/Albrecht_Duâ\\x95\\xa0Ãªrer_85.jpg',\n",
       " './paintings/Edouard_Manet_53.jpg',\n",
       " './paintings/Edouard_Manet_68.jpg',\n",
       " './paintings/Vincent_van_Gogh_204.jpg',\n",
       " './paintings/Vincent_van_Gogh_233.jpg',\n",
       " './paintings/Hieronymus_Bosch_113.jpg',\n",
       " './paintings/Edgar_Degas_206.jpg',\n",
       " './paintings/Vincent_van_Gogh_103.jpg',\n",
       " './paintings/Vincent_van_Gogh_666.jpg',\n",
       " './paintings/Edgar_Degas_545.jpg',\n",
       " './paintings/El_Greco_12.jpg',\n",
       " './paintings/Paul_Gauguin_201.jpg',\n",
       " './paintings/Pablo_Picasso_207.jpg',\n",
       " './paintings/Hieronymus_Bosch_54.jpg',\n",
       " './paintings/Edgar_Degas_19.jpg',\n",
       " './paintings/Pieter_Bruegel_66.jpg',\n",
       " './paintings/Vincent_van_Gogh_356.jpg',\n",
       " './paintings/Titian_52.jpg',\n",
       " './paintings/Paul_Gauguin_159.jpg',\n",
       " './paintings/Edouard_Manet_8.jpg',\n",
       " './paintings/Henri_Matisse_46.jpg',\n",
       " './paintings/Titian_232.jpg',\n",
       " './paintings/Pierre-Auguste_Renoir_100.jpg',\n",
       " './paintings/Amedeo_Modigliani_23.jpg',\n",
       " './paintings/Andy_Warhol_151.jpg',\n",
       " './paintings/Diego_Rivera_61.jpg',\n",
       " './paintings/Edgar_Degas_105.jpg',\n",
       " './paintings/Alfred_Sisley_222.jpg',\n",
       " './paintings/Vincent_van_Gogh_299.jpg',\n",
       " './paintings/Mikhail_Vrubel_123.jpg',\n",
       " './paintings/Pablo_Picasso_294.jpg',\n",
       " './paintings/Paul_Gauguin_87.jpg',\n",
       " './paintings/Joan_Miro_62.jpg',\n",
       " './paintings/Vincent_van_Gogh_284.jpg',\n",
       " './paintings/Rembrandt_109.jpg',\n",
       " './paintings/Henri_Rousseau_8.jpg',\n",
       " './paintings/Hieronymus_Bosch_83.jpg',\n",
       " './paintings/Frida_Kahlo_43.jpg',\n",
       " './paintings/Alfred_Sisley_244.jpg',\n",
       " './paintings/Jackson_Pollock_7.jpg',\n",
       " './paintings/Pablo_Picasso_351.jpg',\n",
       " './paintings/Vincent_van_Gogh_853.jpg',\n",
       " './paintings/Francisco_Goya_285.jpg',\n",
       " './paintings/Vincent_van_Gogh_370.jpg',\n",
       " './paintings/Pierre-Auguste_Renoir_238.jpg',\n",
       " './paintings/Leonardo_da_Vinci_100.jpg',\n",
       " './paintings/Marc_Chagall_167.jpg',\n",
       " './paintings/Giotto_di_Bondone_41.jpg',\n",
       " './paintings/Edgar_Degas_156.jpg',\n",
       " './paintings/Albrecht_DuÌ\\x88rer_85.jpg',\n",
       " './paintings/Paul_Gauguin_302.jpg',\n",
       " './paintings/Pablo_Picasso_344.jpg',\n",
       " './paintings/Diego_Rivera_32.jpg',\n",
       " './paintings/Vincent_van_Gogh_39.jpg',\n",
       " './paintings/Salvador_Dali_6.jpg',\n",
       " './paintings/Leonardo_da_Vinci_29.jpg',\n",
       " './paintings/Albrecht_DuÌ\\x88rer_194.jpg',\n",
       " './paintings/Pierre-Auguste_Renoir_86.jpg',\n",
       " './paintings/Edgar_Degas_466.jpg',\n",
       " './paintings/Salvador_Dali_84.jpg',\n",
       " './paintings/Alfred_Sisley_259.jpg',\n",
       " './paintings/Joan_Miro_91.jpg',\n",
       " './paintings/Vincent_van_Gogh_428.jpg',\n",
       " './paintings/Caravaggio_3.jpg',\n",
       " './paintings/Pablo_Picasso_401.jpg',\n",
       " './paintings/Salvador_Dali_26.jpg',\n",
       " './paintings/Pablo_Picasso_300.jpg',\n",
       " './paintings/Pieter_Bruegel_115.jpg',\n",
       " './paintings/Edgar_Degas_567.jpg',\n",
       " './paintings/Albrecht_Duâ\\x95\\xa0Ãªrer_237.jpg',\n",
       " './paintings/Francisco_Goya_140.jpg',\n",
       " './paintings/Marc_Chagall_196.jpg',\n",
       " './paintings/Rembrandt_116.jpg',\n",
       " './paintings/Gustav_Klimt_78.jpg',\n",
       " './paintings/Mikhail_Vrubel_138.jpg',\n",
       " './paintings/Vasiliy_Kandinskiy_35.jpg',\n",
       " './paintings/Salvador_Dali_130.jpg',\n",
       " './paintings/Pierre-Auguste_Renoir_30.jpg',\n",
       " './paintings/Albrecht_Duâ\\x95\\xa0Ãªrer_165.jpg',\n",
       " './paintings/Henri_Matisse_75.jpg',\n",
       " './paintings/Paul_Gauguin_137.jpg',\n",
       " './paintings/Amedeo_Modigliani_38.jpg',\n",
       " './paintings/Vincent_van_Gogh_363.jpg',\n",
       " './paintings/Francisco_Goya_72.jpg',\n",
       " './paintings/Edgar_Degas_343.jpg',\n",
       " './paintings/Vincent_van_Gogh_521.jpg',\n",
       " './paintings/Vincent_van_Gogh_183.jpg',\n",
       " './paintings/Salvador_Dali_62.jpg',\n",
       " './paintings/Vincent_van_Gogh_161.jpg',\n",
       " './paintings/Edgar_Degas_185.jpg',\n",
       " './paintings/Edgar_Degas_459.jpg',\n",
       " './paintings/Albrecht_DuÌ\\x88rer_208.jpg',\n",
       " './paintings/Camille_Pissarro_4.jpg',\n",
       " './paintings/Sandro_Botticelli_66.jpg',\n",
       " './paintings/Gustave_Courbet_31.jpg',\n",
       " './paintings/Paul_Gauguin_281.jpg',\n",
       " './paintings/William_Turner_5.jpg',\n",
       " './paintings/Edgar_Degas_293.jpg',\n",
       " './paintings/Vincent_van_Gogh_147.jpg',\n",
       " './paintings/Piet_Mondrian_41.jpg',\n",
       " './paintings/Albrecht_Duâ\\x95\\xa0Ãªrer_187.jpg',\n",
       " './paintings/Amedeo_Modigliani_148.jpg',\n",
       " './paintings/Edgar_Degas_279.jpg',\n",
       " './paintings/Albrecht_Duâ\\x95\\xa0Ãªrer_150.jpg',\n",
       " './paintings/Paul_Klee_47.jpg',\n",
       " './paintings/Edgar_Degas_127.jpg',\n",
       " './paintings/Marc_Chagall_202.jpg',\n",
       " './paintings/Vincent_van_Gogh_132.jpg',\n",
       " './paintings/Hieronymus_Bosch_18.jpg',\n",
       " './paintings/Albrecht_Duâ\\x95\\xa0Ãªrer_41.jpg',\n",
       " './paintings/Paul_Klee_69.jpg',\n",
       " './paintings/Edgar_Degas_437.jpg',\n",
       " './paintings/Gustav_Klimt_56.jpg',\n",
       " './paintings/Edgar_Degas_387.jpg',\n",
       " './paintings/Rembrandt_224.jpg',\n",
       " './paintings/Pablo_Picasso_56.jpg',\n",
       " './paintings/Francisco_Goya_177.jpg',\n",
       " './paintings/Leonardo_da_Vinci_115.jpg',\n",
       " './paintings/Henri_Matisse_164.jpg',\n",
       " './paintings/Albrecht_DuÌ\\x88rer_150.jpg',\n",
       " './paintings/Rembrandt_196.jpg',\n",
       " './paintings/Francisco_Goya_184.jpg',\n",
       " './paintings/Edgar_Degas_624.jpg',\n",
       " './paintings/Rene_Magritte_161.jpg',\n",
       " './paintings/Marc_Chagall_2.jpg',\n",
       " './paintings/Paul_Gauguin_230.jpg',\n",
       " './paintings/Paul_Klee_116.jpg',\n",
       " './paintings/Edgar_Degas_495.jpg',\n",
       " './paintings/Paul_Cezanne_39.jpg',\n",
       " './paintings/Pablo_Picasso_265.jpg',\n",
       " './paintings/Henri_Matisse_135.jpg',\n",
       " './paintings/Camille_Pissarro_71.jpg',\n",
       " './paintings/Claude_Monet_62.jpg',\n",
       " './paintings/Claude_Monet_6.jpg',\n",
       " './paintings/Henri_Rousseau_50.jpg',\n",
       " './paintings/Alfred_Sisley_8.jpg',\n",
       " './paintings/Georges_Seurat_40.jpg',\n",
       " './paintings/Rene_Magritte_87.jpg',\n",
       " './paintings/Alfred_Sisley_46.jpg',\n",
       " './paintings/Vincent_van_Gogh_91.jpg',\n",
       " './paintings/Henri_Rousseau_14.jpg',\n",
       " './paintings/Rembrandt_239.jpg',\n",
       " './paintings/Rembrandt_20.jpg',\n",
       " './paintings/Vasiliy_Kandinskiy_20.jpg',\n",
       " './paintings/Jan_van_Eyck_59.jpg',\n",
       " './paintings/Salvador_Dali_101.jpg',\n",
       " './paintings/Peter_Paul_Rubens_71.jpg',\n",
       " './paintings/Vincent_van_Gogh_709.jpg',\n",
       " './paintings/Piet_Mondrian_1.jpg',\n",
       " './paintings/William_Turner_45.jpg',\n",
       " './paintings/Henri_de_Toulouse-Lautrec_39.jpg',\n",
       " './paintings/Alfred_Sisley_22.jpg',\n",
       " './paintings/Paul_Klee_123.jpg',\n",
       " './paintings/Paul_Gauguin_180.jpg',\n",
       " './paintings/Henri_de_Toulouse-Lautrec_17.jpg',\n",
       " './paintings/Jan_van_Eyck_80.jpg',\n",
       " './paintings/Kazimir_Malevich_28.jpg',\n",
       " './paintings/Rene_Magritte_118.jpg',\n",
       " './paintings/Vincent_van_Gogh_529.jpg',\n",
       " './paintings/Pieter_Bruegel_22.jpg',\n",
       " './paintings/Albrecht_Duâ\\x95\\xa0Ãªrer_121.jpg',\n",
       " './paintings/Edgar_Degas_134.jpg',\n",
       " './paintings/Edgar_Degas_631.jpg',\n",
       " './paintings/Albrecht_Duâ\\x95\\xa0Ãªrer_244.jpg',\n",
       " './paintings/Sandro_Botticelli_95.jpg',\n",
       " './paintings/Vincent_van_Gogh_291.jpg',\n",
       " './paintings/Paul_Klee_83.jpg',\n",
       " './paintings/Marc_Chagall_174.jpg',\n",
       " './paintings/Albrecht_DuÌ\\x88rer_143.jpg',\n",
       " './paintings/Edvard_Munch_22.jpg',\n",
       " './paintings/Francisco_Goya_148.jpg',\n",
       " './paintings/Marc_Chagall_15.jpg',\n",
       " './paintings/Frida_Kahlo_36.jpg',\n",
       " './paintings/Pieter_Bruegel_122.jpg',\n",
       " './paintings/Edgar_Degas_509.jpg',\n",
       " './paintings/Peter_Paul_Rubens_64.jpg',\n",
       " './paintings/Vincent_van_Gogh_349.jpg',\n",
       " './paintings/Albrecht_DuÌ\\x88rer_22.jpg',\n",
       " './paintings/Andy_Warhol_38.jpg',\n",
       " './paintings/Vincent_van_Gogh_701.jpg',\n",
       " './paintings/Andrei_Rublev_93.jpg',\n",
       " './paintings/Amedeo_Modigliani_184.jpg',\n",
       " './paintings/Titian_10.jpg',\n",
       " './paintings/Rembrandt_167.jpg',\n",
       " './paintings/Mikhail_Vrubel_48.jpg',\n",
       " './paintings/Francisco_Goya_104.jpg',\n",
       " './paintings/Edgar_Degas_286.jpg',\n",
       " './paintings/Pablo_Picasso_430.jpg',\n",
       " './paintings/Pieter_Bruegel_73.jpg',\n",
       " './paintings/Pablo_Picasso_157.jpg',\n",
       " './paintings/Sandro_Botticelli_22.jpg',\n",
       " './paintings/Albrecht_Duâ\\x95\\xa0Ãªrer_129.jpg',\n",
       " './paintings/Rene_Magritte_29.jpg',\n",
       " './paintings/Paul_Gauguin_30.jpg',\n",
       " './paintings/Albrecht_Duâ\\x95\\xa0Ãªrer_194.jpg',\n",
       " './paintings/Gustav_Klimt_1.jpg',\n",
       " './paintings/Titian_38.jpg',\n",
       " './paintings/Vincent_van_Gogh_615.jpg',\n",
       " './paintings/Pierre-Auguste_Renoir_108.jpg',\n",
       " './paintings/Titian_30.jpg',\n",
       " './paintings/Henri_Rousseau_58.jpg',\n",
       " './paintings/Andy_Warhol_12.jpg',\n",
       " './paintings/Leonardo_da_Vinci_122.jpg',\n",
       " './paintings/Rene_Magritte_169.jpg',\n",
       " './paintings/Vincent_van_Gogh_493.jpg',\n",
       " './paintings/Pieter_Bruegel_2.jpg',\n",
       " './paintings/Titian_153.jpg',\n",
       " './paintings/Joan_Miro_99.jpg',\n",
       " './paintings/Alfred_Sisley_215.jpg',\n",
       " './paintings/Marc_Chagall_145.jpg',\n",
       " './paintings/Edvard_Munch_44.jpg',\n",
       " './paintings/Paul_Gauguin_108.jpg',\n",
       " './paintings/Edgar_Degas_314.jpg',\n",
       " './paintings/Henri_Matisse_14.jpg',\n",
       " './paintings/Albrecht_Duâ\\x95\\xa0Ãªrer_56.jpg',\n",
       " './paintings/Vincent_van_Gogh_796.jpg',\n",
       " './paintings/Rembrandt_181.jpg',\n",
       " './paintings/Mikhail_Vrubel_130.jpg',\n",
       " './paintings/Francisco_Goya_94.jpg',\n",
       " './paintings/Edgar_Degas_55.jpg',\n",
       " './paintings/Rembrandt_38.jpg',\n",
       " './paintings/Pierre-Auguste_Renoir_289.jpg',\n",
       " './paintings/Albrecht_Duâ\\x95\\xa0Ãªrer_266.jpg',\n",
       " './paintings/Edgar_Degas_92.jpg',\n",
       " './paintings/Jan_van_Eyck_44.jpg',\n",
       " './paintings/Albrecht_DuÌ\\x88rer_78.jpg',\n",
       " './paintings/Vincent_van_Gogh_435.jpg',\n",
       " './paintings/Vincent_van_Gogh_334.jpg',\n",
       " './paintings/Andy_Warhol_144.jpg',\n",
       " './paintings/Pablo_Picasso_85.jpg',\n",
       " './paintings/Paul_Klee_109.jpg',\n",
       " './paintings/Giotto_di_Bondone_63.jpg',\n",
       " './paintings/Vincent_van_Gogh_255.jpg',\n",
       " './paintings/Amedeo_Modigliani_81.jpg',\n",
       " './paintings/Diego_Rivera_18.jpg',\n",
       " './paintings/Claude_Monet_26.jpg',\n",
       " './paintings/Edgar_Degas_178.jpg',\n",
       " './paintings/Gustave_Courbet_17.jpg',\n",
       " './paintings/Frida_Kahlo_29.jpg',\n",
       " './paintings/Henri_Matisse_171.jpg',\n",
       " './paintings/Diego_Rivera_69.jpg',\n",
       " './paintings/Vasiliy_Kandinskiy_42.jpg',\n",
       " './paintings/Amedeo_Modigliani_191.jpg',\n",
       " './paintings/Kazimir_Malevich_79.jpg',\n",
       " './paintings/Caravaggio_47.jpg',\n",
       " './paintings/Marc_Chagall_189.jpg',\n",
       " './paintings/Paul_Klee_15.jpg',\n",
       " './paintings/Leonardo_da_Vinci_65.jpg',\n",
       " './paintings/Salvador_Dali_109.jpg',\n",
       " './paintings/Pablo_Picasso_171.jpg',\n",
       " './paintings/Titian_18.jpg',\n",
       " './paintings/Rene_Magritte_125.jpg',\n",
       " './paintings/Mikhail_Vrubel_33.jpg',\n",
       " './paintings/Hieronymus_Bosch_76.jpg',\n",
       " './paintings/Francisco_Goya_58.jpg',\n",
       " './paintings/Pablo_Picasso_373.jpg',\n",
       " './paintings/Giotto_di_Bondone_56.jpg',\n",
       " './paintings/Sandro_Botticelli_59.jpg',\n",
       " './paintings/Pablo_Picasso_92.jpg',\n",
       " './paintings/Vincent_van_Gogh_26.jpg',\n",
       " './paintings/Hieronymus_Bosch_106.jpg',\n",
       " './paintings/El_Greco_78.jpg',\n",
       " './paintings/Peter_Paul_Rubens_141.jpg',\n",
       " './paintings/Francisco_Goya_256.jpg',\n",
       " './paintings/Pierre-Auguste_Renoir_302.jpg',\n",
       " './paintings/Titian_168.jpg',\n",
       " './paintings/Vincent_van_Gogh_262.jpg',\n",
       " './paintings/Frida_Kahlo_109.jpg',\n",
       " './paintings/Sandro_Botticelli_113.jpg',\n",
       " './paintings/Marc_Chagall_80.jpg',\n",
       " './paintings/Vincent_van_Gogh_507.jpg',\n",
       " './paintings/Marc_Chagall_152.jpg',\n",
       " './paintings/Amedeo_Modigliani_45.jpg',\n",
       " './paintings/Vincent_van_Gogh_31.jpg',\n",
       " './paintings/Pieter_Bruegel_44.jpg',\n",
       " './paintings/Vincent_van_Gogh_565.jpg',\n",
       " './paintings/Pierre-Auguste_Renoir_115.jpg',\n",
       " './paintings/Henri_de_Toulouse-Lautrec_24.jpg',\n",
       " './paintings/Jan_van_Eyck_2.jpg',\n",
       " './paintings/Andrei_Rublev_86.jpg',\n",
       " './paintings/Edgar_Degas_213.jpg',\n",
       " './paintings/Paul_Gauguin_252.jpg',\n",
       " './paintings/Amedeo_Modigliani_89.jpg',\n",
       " './paintings/Pierre-Auguste_Renoir_230.jpg',\n",
       " './paintings/Pieter_Bruegel_12.jpg',\n",
       " './paintings/Edgar_Degas_480.jpg',\n",
       " './paintings/Camille_Pissarro_57.jpg',\n",
       " './paintings/Albrecht_DuÌ\\x88rer_63.jpg',\n",
       " './paintings/Marc_Chagall_239.jpg',\n",
       " './paintings/Pierre-Auguste_Renoir_166.jpg',\n",
       " './paintings/Pablo_Picasso_388.jpg',\n",
       " './paintings/Pablo_Picasso_337.jpg',\n",
       " './paintings/Piet_Mondrian_70.jpg',\n",
       " './paintings/Albrecht_Duâ\\x95\\xa0Ãªrer_280.jpg',\n",
       " './paintings/Camille_Pissarro_35.jpg',\n",
       " './paintings/Francisco_Goya_199.jpg',\n",
       " './paintings/Paul_Gauguin_289.jpg',\n",
       " './paintings/Andrei_Rublev_42.jpg',\n",
       " './paintings/Edouard_Manet_82.jpg',\n",
       " './paintings/Andrei_Rublev_57.jpg',\n",
       " './paintings/Sandro_Botticelli_2.jpg',\n",
       " './paintings/Edgar_Degas_400.jpg',\n",
       " './paintings/Pablo_Picasso_380.jpg',\n",
       " './paintings/Albrecht_DuÌ\\x88rer_266.jpg',\n",
       " './paintings/Paul_Gauguin_238.jpg',\n",
       " './paintings/Andy_Warhol_81.jpg',\n",
       " './paintings/Leonardo_da_Vinci_12.jpg',\n",
       " './paintings/Alfred_Sisley_143.jpg',\n",
       " './paintings/Sandro_Botticelli_142.jpg',\n",
       " './paintings/Paul_Gauguin_94.jpg',\n",
       " './paintings/Henri_Rousseau_65.jpg',\n",
       " './paintings/Alfred_Sisley_75.jpg',\n",
       " './paintings/Gustav_Klimt_49.jpg',\n",
       " './paintings/Marc_Chagall_88.jpg',\n",
       " './paintings/Henri_Matisse_106.jpg',\n",
       " './paintings/Albrecht_Duâ\\x95\\xa0Ãªrer_309.jpg',\n",
       " './paintings/Paul_Gauguin_195.jpg',\n",
       " './paintings/Marc_Chagall_217.jpg',\n",
       " './paintings/Albrecht_Duâ\\x95\\xa0Ãªrer_172.jpg',\n",
       " './paintings/El_Greco_27.jpg',\n",
       " './paintings/Edgar_Degas_78.jpg',\n",
       " './paintings/Vincent_van_Gogh_781.jpg',\n",
       " './paintings/Paul_Gauguin_216.jpg',\n",
       " './paintings/Vincent_van_Gogh_730.jpg',\n",
       " './paintings/Amedeo_Modigliani_162.jpg',\n",
       " './paintings/Albrecht_DuÌ\\x88rer_70.jpg',\n",
       " './paintings/Pierre-Auguste_Renoir_331.jpg',\n",
       " './paintings/Rembrandt_217.jpg',\n",
       " './paintings/Vincent_van_Gogh_406.jpg',\n",
       " './paintings/Frida_Kahlo_101.jpg',\n",
       " './paintings/Georges_Seurat_19.jpg',\n",
       " './paintings/Rembrandt_96.jpg',\n",
       " './paintings/Vincent_van_Gogh_486.jpg',\n",
       " './paintings/Pablo_Picasso_322.jpg',\n",
       " './paintings/Pierre-Auguste_Renoir_122.jpg',\n",
       " './paintings/Edgar_Degas_42.jpg',\n",
       " './paintings/Pierre-Auguste_Renoir_209.jpg',\n",
       " './paintings/Mikhail_Vrubel_84.jpg',\n",
       " './paintings/Paul_Gauguin_58.jpg',\n",
       " './paintings/Edouard_Manet_60.jpg',\n",
       " './paintings/Marc_Chagall_51.jpg',\n",
       " './paintings/Vincent_van_Gogh_651.jpg',\n",
       " './paintings/Pierre-Auguste_Renoir_79.jpg',\n",
       " './paintings/Paul_Klee_145.jpg',\n",
       " './paintings/Albrecht_Duâ\\x95\\xa0Ãªrer_70.jpg',\n",
       " './paintings/Piet_Mondrian_56.jpg',\n",
       " './paintings/Alfred_Sisley_200.jpg',\n",
       " './paintings/Joan_Miro_77.jpg',\n",
       " './paintings/Sandro_Botticelli_44.jpg',\n",
       " './paintings/Francisco_Goya_126.jpg',\n",
       " './paintings/Pablo_Picasso_142.jpg',\n",
       " './paintings/Titian_182.jpg',\n",
       " './paintings/Titian_117.jpg',\n",
       " './paintings/Mikhail_Vrubel_77.jpg',\n",
       " './paintings/Frida_Kahlo_72.jpg',\n",
       " './paintings/Alfred_Sisley_107.jpg',\n",
       " './paintings/Francisco_Goya_21.jpg',\n",
       " './paintings/Peter_Paul_Rubens_93.jpg',\n",
       " './paintings/Edgar_Degas_697.jpg',\n",
       " './paintings/Rembrandt_81.jpg',\n",
       " './paintings/Joan_Miro_33.jpg',\n",
       " './paintings/Edgar_Degas_523.jpg',\n",
       " './paintings/Gustav_Klimt_70.jpg',\n",
       " './paintings/Sandro_Botticelli_37.jpg',\n",
       " './paintings/William_Turner_38.jpg',\n",
       " './paintings/Raphael_65.jpg',\n",
       " './paintings/Albrecht_Duâ\\x95\\xa0Ãªrer_136.jpg',\n",
       " './paintings/Peter_Paul_Rubens_35.jpg',\n",
       " './paintings/Raphael_94.jpg',\n",
       " './paintings/El_Greco_70.jpg',\n",
       " './paintings/Vincent_van_Gogh_659.jpg',\n",
       " './paintings/Edgar_Degas_2.jpg',\n",
       " './paintings/Rembrandt_30.jpg',\n",
       " './paintings/Paul_Gauguin_267.jpg',\n",
       " './paintings/Gustave_Courbet_6.jpg',\n",
       " './paintings/Francisco_Goya_191.jpg',\n",
       " './paintings/Vincent_van_Gogh_637.jpg',\n",
       " './paintings/Peter_Paul_Rubens_79.jpg',\n",
       " './paintings/Edgar_Degas_653.jpg',\n",
       " './paintings/Hieronymus_Bosch_25.jpg',\n",
       " './paintings/Gustave_Courbet_53.jpg',\n",
       " './paintings/Vincent_van_Gogh_738.jpg',\n",
       " './paintings/Vincent_van_Gogh_550.jpg',\n",
       " './paintings/Vincent_van_Gogh_464.jpg',\n",
       " './paintings/Francisco_Goya_29.jpg',\n",
       " './paintings/Rembrandt_5.jpg',\n",
       " './paintings/Albrecht_Duâ\\x95\\xa0Ãªrer_200.jpg',\n",
       " './paintings/Giotto_di_Bondone_78.jpg',\n",
       " './paintings/Pablo_Picasso_78.jpg',\n",
       " './paintings/Gustav_Klimt_27.jpg',\n",
       " './paintings/Joan_Miro_55.jpg',\n",
       " './paintings/Pierre-Auguste_Renoir_195.jpg',\n",
       " './paintings/Henri_de_Toulouse-Lautrec_75.jpg',\n",
       " './paintings/Pierre-Auguste_Renoir_12.jpg',\n",
       " './paintings/Vincent_van_Gogh_57.jpg',\n",
       " './paintings/Rembrandt_67.jpg',\n",
       " './paintings/Diego_Rivera_54.jpg',\n",
       " './paintings/Sandro_Botticelli_135.jpg',\n",
       " './paintings/Michelangelo_49.jpg',\n",
       " './paintings/Paul_Cezanne_24.jpg',\n",
       " './paintings/Camille_Pissarro_13.jpg',\n",
       " './paintings/Paul_Klee_61.jpg',\n",
       " './paintings/Andy_Warhol_52.jpg',\n",
       " './paintings/Paul_Gauguin_274.jpg',\n",
       " './paintings/Paul_Klee_32.jpg',\n",
       " './paintings/Edgar_Degas_589.jpg',\n",
       " './paintings/William_Turner_16.jpg',\n",
       " './paintings/Edgar_Degas_11.jpg',\n",
       " './paintings/Edgar_Degas_112.jpg',\n",
       " './paintings/Diego_Velazquez_15.jpg',\n",
       " './paintings/Paul_Gauguin_223.jpg',\n",
       " './paintings/Edvard_Munch_51.jpg',\n",
       " './paintings/Pierre-Auguste_Renoir_223.jpg',\n",
       " './paintings/Pieter_Bruegel_80.jpg',\n",
       " './paintings/Henri_Matisse_24.jpg',\n",
       " './paintings/Raphael_29.jpg',\n",
       " './paintings/Hieronymus_Bosch_69.jpg',\n",
       " './paintings/Hieronymus_Bosch_128.jpg',\n",
       " './paintings/Titian_175.jpg',\n",
       " './paintings/Hieronymus_Bosch_98.jpg',\n",
       " './paintings/Amedeo_Modigliani_16.jpg',\n",
       " './paintings/Sandro_Botticelli_106.jpg',\n",
       " './paintings/Frida_Kahlo_50.jpg',\n",
       " './paintings/El_Greco_1.jpg',\n",
       " './paintings/Vincent_van_Gogh_44.jpg',\n",
       " './paintings/Francisco_Goya_227.jpg',\n",
       " './paintings/Rene_Magritte_21.jpg',\n",
       " './paintings/Joan_Miro_84.jpg',\n",
       " './paintings/Eugene_Delacroix_20.jpg',\n",
       " './paintings/Rembrandt_130.jpg',\n",
       " './paintings/Caravaggio_25.jpg',\n",
       " './paintings/Rene_Magritte_132.jpg',\n",
       " './paintings/Alfred_Sisley_53.jpg',\n",
       " './paintings/Vincent_van_Gogh_248.jpg',\n",
       " './paintings/Edgar_Degas_9.jpg',\n",
       " './paintings/Alfred_Sisley_194.jpg',\n",
       " './paintings/Amedeo_Modigliani_104.jpg',\n",
       " './paintings/Titian_124.jpg',\n",
       " './paintings/Peter_Paul_Rubens_42.jpg',\n",
       " './paintings/Pierre-Auguste_Renoir_35.jpg',\n",
       " './paintings/Henri_Matisse_179.jpg',\n",
       " './paintings/Albrecht_DuÌ\\x88rer_92.jpg',\n",
       " './paintings/Alfred_Sisley_17.jpg',\n",
       " './paintings/Edgar_Degas_668.jpg',\n",
       " './paintings/Pierre-Auguste_Renoir_64.jpg',\n",
       " './paintings/Albrecht_DuÌ\\x88rer_222.jpg',\n",
       " './paintings/Piet_Mondrian_78.jpg',\n",
       " './paintings/Vincent_van_Gogh_176.jpg',\n",
       " './paintings/Camille_Pissarro_86.jpg',\n",
       " './paintings/Edgar_Degas_660.jpg',\n",
       " './paintings/Vincent_van_Gogh_680.jpg',\n",
       " './paintings/Albrecht_Duâ\\x95\\xa0Ãªrer_22.jpg',\n",
       " './paintings/Salvador_Dali_116.jpg',\n",
       " './paintings/Edgar_Degas_220.jpg',\n",
       " './paintings/Vincent_van_Gogh_4.jpg',\n",
       " './paintings/Francisco_Goya_162.jpg',\n",
       " './paintings/Edgar_Degas_501.jpg',\n",
       " './paintings/Albrecht_DuÌ\\x88rer_41.jpg',\n",
       " './paintings/Vincent_van_Gogh_341.jpg',\n",
       " './paintings/Caravaggio_32.jpg',\n",
       " './paintings/Albrecht_DuÌ\\x88rer_17.jpg',\n",
       " './paintings/Vincent_van_Gogh_673.jpg',\n",
       " './paintings/Henri_Matisse_31.jpg',\n",
       " './paintings/Amedeo_Modigliani_96.jpg',\n",
       " './paintings/Henri_Matisse_53.jpg',\n",
       " './paintings/Mikhail_Vrubel_62.jpg',\n",
       " './paintings/Jan_van_Eyck_22.jpg',\n",
       " './paintings/Albrecht_DuÌ\\x88rer_323.jpg',\n",
       " './paintings/Pierre-Auguste_Renoir_324.jpg',\n",
       " './paintings/Rene_Magritte_13.jpg',\n",
       " './paintings/Rene_Magritte_176.jpg',\n",
       " './paintings/Vincent_van_Gogh_622.jpg',\n",
       " './paintings/Jan_van_Eyck_37.jpg',\n",
       " './paintings/Paul_Klee_174.jpg',\n",
       " './paintings/Henri_Matisse_120.jpg',\n",
       " './paintings/Francisco_Goya_133.jpg',\n",
       " './paintings/Pablo_Picasso_423.jpg',\n",
       " './paintings/Vincent_van_Gogh_110.jpg',\n",
       " './paintings/Vincent_van_Gogh_80.jpg',\n",
       " './paintings/Amedeo_Modigliani_177.jpg',\n",
       " './paintings/Sandro_Botticelli_128.jpg',\n",
       " './paintings/Vasiliy_Kandinskiy_64.jpg',\n",
       " './paintings/Peter_Paul_Rubens_127.jpg',\n",
       " './paintings/Amedeo_Modigliani_119.jpg',\n",
       " './paintings/Henri_Matisse_82.jpg',\n",
       " './paintings/Albrecht_Duâ\\x95\\xa0Ãªrer_143.jpg',\n",
       " './paintings/Edouard_Manet_46.jpg',\n",
       " './paintings/Paul_Klee_76.jpg',\n",
       " './paintings/Vincent_van_Gogh_154.jpg',\n",
       " './paintings/Titian_67.jpg',\n",
       " './paintings/Michelangelo_34.jpg',\n",
       " './paintings/Titian_160.jpg',\n",
       " './paintings/Vincent_van_Gogh_543.jpg',\n",
       " './paintings/Leonardo_da_Vinci_14.jpg',\n",
       " './paintings/Pablo_Picasso_221.jpg',\n",
       " './paintings/Hieronymus_Bosch_90.jpg',\n",
       " './paintings/Mikhail_Vrubel_15.jpg',\n",
       " './paintings/Camille_Pissarro_64.jpg',\n",
       " './paintings/Vincent_van_Gogh_824.jpg',\n",
       " './paintings/Vincent_van_Gogh_240.jpg',\n",
       " './paintings/Marc_Chagall_109.jpg',\n",
       " './paintings/Francisco_Goya_50.jpg',\n",
       " './paintings/Edgar_Degas_170.jpg',\n",
       " './paintings/Frida_Kahlo_94.jpg',\n",
       " './paintings/Sandro_Botticelli_14.jpg',\n",
       " './paintings/Albrecht_DuÌ\\x88rer_273.jpg',\n",
       " './paintings/Pieter_Bruegel_59.jpg',\n",
       " './paintings/Vincent_van_Gogh_385.jpg',\n",
       " './paintings/Jan_van_Eyck_66.jpg',\n",
       " './paintings/Vasiliy_Kandinskiy_71.jpg',\n",
       " './paintings/Salvador_Dali_99.jpg',\n",
       " './paintings/Pierre-Auguste_Renoir_216.jpg',\n",
       " './paintings/Vincent_van_Gogh_802.jpg',\n",
       " './paintings/Claude_Monet_19.jpg',\n",
       " './paintings/Henri_Matisse_39.jpg',\n",
       " './paintings/Pieter_Bruegel_100.jpg',\n",
       " './paintings/Edgar_Degas_422.jpg',\n",
       " './paintings/Michelangelo_1.jpg',\n",
       " './paintings/Vincent_van_Gogh_536.jpg',\n",
       " './paintings/El_Greco_56.jpg',\n",
       " './paintings/Edvard_Munch_2.jpg',\n",
       " './paintings/Joan_Miro_19.jpg',\n",
       " './paintings/Leonardo_da_Vinci_58.jpg',\n",
       " './paintings/Giotto_di_Bondone_12.jpg',\n",
       " './paintings/Diego_Rivera_10.jpg',\n",
       " './paintings/Rembrandt_89.jpg',\n",
       " './paintings/Salvador_Dali_91.jpg',\n",
       " './paintings/Salvador_Dali_55.jpg',\n",
       " './paintings/Pablo_Picasso_135.jpg',\n",
       " './paintings/Vincent_van_Gogh_99.jpg',\n",
       " './paintings/Mikhail_Vrubel_167.jpg',\n",
       " './paintings/Albrecht_DuÌ\\x88rer_215.jpg',\n",
       " './paintings/Pierre-Auguste_Renoir_188.jpg',\n",
       " './paintings/Edgar_Degas_163.jpg',\n",
       " './paintings/Edvard_Munch_66.jpg',\n",
       " './paintings/Gustav_Klimt_12.jpg',\n",
       " './paintings/Paul_Klee_18.jpg',\n",
       " './paintings/Paul_Gauguin_296.jpg',\n",
       " './paintings/Henri_Matisse_60.jpg',\n",
       " './paintings/Frida_Kahlo_7.jpg',\n",
       " './paintings/Pablo_Picasso_164.jpg',\n",
       " './paintings/Gustav_Klimt_63.jpg',\n",
       " './paintings/Caravaggio_10.jpg',\n",
       " './paintings/Pablo_Picasso_9.jpg',\n",
       " './paintings/Hieronymus_Bosch_3.jpg',\n",
       " './paintings/Titian_139.jpg',\n",
       " './paintings/Andy_Warhol_74.jpg',\n",
       " './paintings/Albrecht_DuÌ\\x88rer_56.jpg',\n",
       " './paintings/Albrecht_Duâ\\x95\\xa0Ãªrer_316.jpg',\n",
       " './paintings/Pablo_Picasso_214.jpg',\n",
       " './paintings/Henri_Rousseau_43.jpg',\n",
       " './paintings/El_Greco_85.jpg',\n",
       " './paintings/Alfred_Sisley_82.jpg',\n",
       " './paintings/Leonardo_da_Vinci_7.jpg',\n",
       " './paintings/Titian_254.jpg',\n",
       " './paintings/Rene_Magritte_36.jpg',\n",
       " './paintings/Pierre-Auguste_Renoir_281.jpg',\n",
       " './paintings/Vincent_van_Gogh_860.jpg',\n",
       " './paintings/Albrecht_DuÌ\\x88rer_187.jpg',\n",
       " './paintings/Amedeo_Modigliani_140.jpg',\n",
       " './paintings/Andy_Warhol_5.jpg',\n",
       " './paintings/Albrecht_DuÌ\\x88rer_251.jpg',\n",
       " './paintings/Alfred_Sisley_39.jpg',\n",
       " './paintings/Jan_van_Eyck_51.jpg',\n",
       " './paintings/Andrei_Rublev_4.jpg',\n",
       " './paintings/Pierre-Auguste_Renoir_173.jpg',\n",
       " './paintings/Pierre-Auguste_Renoir_245.jpg',\n",
       " './paintings/Vincent_van_Gogh_594.jpg',\n",
       " './paintings/Edouard_Manet_75.jpg',\n",
       " ...]"
      ]
     },
     "execution_count": 3,
     "metadata": {},
     "output_type": "execute_result"
    }
   ],
   "source": [
    "import glob\n",
    "dataset_paths = glob.glob(\"./paintings/*.jpg\")\n",
    "\n",
    "dataset_paths"
   ]
  },
  {
   "cell_type": "markdown",
   "id": "58f83608",
   "metadata": {},
   "source": [
    "❓ **Display the image at index `53` of this dataset_paths (i.e the 54-th image)**\n",
    "\n",
    "<details>\n",
    "    <summary>Hint</summary>\n",
    "    Use the <code>PIL.Image.open</code> and <code>matplotlib.pyplot.imshow</code> functions.\n",
    "</details>"
   ]
  },
  {
   "cell_type": "code",
   "execution_count": 11,
   "id": "64e649f5",
   "metadata": {
    "ExecuteTime": {
     "end_time": "2021-06-22T16:29:51.113503Z",
     "start_time": "2021-06-22T16:29:50.814346Z"
    },
    "scrolled": true,
    "tags": [
     "challengify"
    ]
   },
   "outputs": [
    {
     "data": {
      "text/plain": [
       "<matplotlib.image.AxesImage at 0x7ffaebb545b0>"
      ]
     },
     "execution_count": 11,
     "metadata": {},
     "output_type": "execute_result"
    },
    {
     "data": {
      "image/png": "[encoded data removed]",
      "text/plain": [
       "<Figure size 432x288 with 1 Axes>"
      ]
     },
     "metadata": {
      "needs_background": "light"
     },
     "output_type": "display_data"
    }
   ],
   "source": [
    "# YOUR CODE HERE\n",
    "from PIL import Image\n",
    "from matplotlib.pyplot import imshow\n",
    "\n",
    "filename=dataset_paths[53]\n",
    "\n",
    "im=Image.open(filename)\n",
    "\n",
    "imshow(im)\n",
    "\n"
   ]
  },
  {
   "cell_type": "markdown",
   "id": "0cbb5bbd",
   "metadata": {},
   "source": [
    "❓ **What is the shape of the image you displayed above `img_shape`?  How many dimensions `img_dim` does it have ?**"
   ]
  },
  {
   "cell_type": "code",
   "execution_count": 16,
   "id": "9f5fed60",
   "metadata": {
    "ExecuteTime": {
     "end_time": "2021-06-23T10:21:56.497908Z",
     "start_time": "2021-06-23T10:21:56.481566Z"
    },
    "tags": [
     "challengify"
    ]
   },
   "outputs": [],
   "source": [
    "# YOUR CODE HERE\n",
    "img_shape=im.size\n",
    "img_dim=2\n",
    "\n"
   ]
  },
  {
   "cell_type": "markdown",
   "id": "2cfa2f8f",
   "metadata": {},
   "source": [
    "❓ **What was in the image above?**"
   ]
  },
  {
   "cell_type": "code",
   "execution_count": 17,
   "id": "a3c7d612",
   "metadata": {
    "ExecuteTime": {
     "end_time": "2021-06-23T10:21:58.052065Z",
     "start_time": "2021-06-23T10:21:58.048720Z"
    }
   },
   "outputs": [],
   "source": [
    "img_shape = img_shape\n",
    "img_dim = img_dim\n",
    "\n",
    "\n",
    "# Uncomment the correct answer\n",
    "\n",
    "is_portrait = True\n",
    "#is_portrait = False\n",
    "\n",
    "is_colored_image = True\n",
    "#is_colored_image = False"
   ]
  },
  {
   "cell_type": "code",
   "execution_count": 18,
   "id": "99c7af3b",
   "metadata": {
    "ExecuteTime": {
     "end_time": "2021-06-22T16:29:52.470213Z",
     "start_time": "2021-06-22T16:29:52.460817Z"
    }
   },
   "outputs": [],
   "source": [
    "from nbresult import ChallengeResult\n",
    "result = ChallengeResult(\n",
    "    'data_loading',\n",
    "    img_shape=img_shape,\n",
    "    img_dim=img_dim,\n",
    "    is_portrait=is_portrait,\n",
    "    is_colored_image=is_colored_image\n",
    ")\n",
    "\n",
    "\n",
    "result.write()"
   ]
  },
  {
   "cell_type": "markdown",
   "id": "ba03c718",
   "metadata": {},
   "source": [
    "## 2. Processing"
   ]
  },
  {
   "cell_type": "markdown",
   "id": "66adbb66",
   "metadata": {},
   "source": [
    "❓ **Store all images from the dataset folder in a list of numpy arrays called `dataset_images`**\n",
    "\n",
    "- It can take a while\n",
    "- If the dataset is too big to fit in memory, just take the first half (or quarter) of all pictures"
   ]
  },
  {
   "cell_type": "code",
   "execution_count": 19,
   "id": "9bde7713",
   "metadata": {
    "ExecuteTime": {
     "end_time": "2021-06-23T10:28:34.805289Z",
     "start_time": "2021-06-23T10:28:27.382300Z"
    },
    "tags": [
     "challengify"
    ]
   },
   "outputs": [],
   "source": [
    "# YOUR CODE HERE\n",
    "dataset_images=[]\n",
    "\n",
    "for i in range(len(dataset_paths)):\n",
    "    filename=dataset_paths[i]\n",
    "    dataset_images.append(Image.open(filename))"
   ]
  },
  {
   "cell_type": "code",
   "execution_count": null,
   "id": "2d8633eb",
   "metadata": {},
   "outputs": [],
   "source": []
  },
  {
   "cell_type": "markdown",
   "id": "b57a2716",
   "metadata": {},
   "source": [
    "### 2.1 Reshape, Resize, Rescale\n",
    "\n",
    "Let's simplify our dataset and convert it to a single numpy array"
   ]
  },
  {
   "cell_type": "markdown",
   "id": "db3c1af3",
   "metadata": {},
   "source": [
    "❓ **First, check if that all the images in the dataset have the same number of dimensions**.\n",
    "- What do you notice?\n",
    "- How do you explain it? "
   ]
  },
  {
   "cell_type": "code",
   "execution_count": 559,
   "id": "d7087ea8",
   "metadata": {
    "ExecuteTime": {
     "end_time": "2021-06-23T10:28:44.316205Z",
     "start_time": "2021-06-23T10:28:44.310643Z"
    },
    "tags": [
     "challengify"
    ]
   },
   "outputs": [],
   "source": [
    "# YOUR CODE HERE"
   ]
  },
  {
   "cell_type": "markdown",
   "id": "d8c2b5fc",
   "metadata": {},
   "source": [
    "👉 We convert for you all black & white images into 3-colored ones by duplicating the image on three channels, so as to have only 3D arrays"
   ]
  },
  {
   "cell_type": "code",
   "execution_count": 560,
   "id": "94f9fc55",
   "metadata": {
    "ExecuteTime": {
     "end_time": "2021-06-23T10:28:47.187214Z",
     "start_time": "2021-06-23T10:28:46.380958Z"
    },
    "scrolled": true
   },
   "outputs": [],
   "source": [
    "dataset_images = [x if x.ndim==3 else np.repeat(x[:,:,None], 3, axis=2) for x in tqdm(dataset_images)]\n",
    "set([x.ndim for x in dataset_images])"
   ]
  },
  {
   "cell_type": "markdown",
   "id": "84865561",
   "metadata": {},
   "source": [
    "❓ **What about their shape now ?**\n",
    "- Do they all have the same width/heights ? If not:\n",
    "- Resize the images (120 pixels height and 100 pixels width) in the dataset, using `tensorflow.image.resize` function.\n",
    "- Now that they all have the same shape, store them as a numpy array `dataset_resized`.\n",
    "- This array should thus be of size $(n_{images}, 120, 100, 3)$"
   ]
  },
  {
   "cell_type": "code",
   "execution_count": 562,
   "id": "39739658",
   "metadata": {
    "ExecuteTime": {
     "end_time": "2021-06-23T10:28:49.507681Z",
     "start_time": "2021-06-23T10:28:49.008011Z"
    },
    "tags": [
     "challengify"
    ]
   },
   "outputs": [],
   "source": [
    "# YOUR CODE HERE"
   ]
  },
  {
   "cell_type": "markdown",
   "id": "0701f787",
   "metadata": {},
   "source": [
    "❓ **Rescale the data of each image between $0$ and $1$**\n",
    "- Save your resulting list as `dataset_scaled`"
   ]
  },
  {
   "cell_type": "code",
   "execution_count": 563,
   "id": "d11c7002",
   "metadata": {
    "ExecuteTime": {
     "end_time": "2021-06-23T10:28:50.891273Z",
     "start_time": "2021-06-23T10:28:50.782816Z"
    },
    "tags": [
     "challengify"
    ]
   },
   "outputs": [],
   "source": [
    "# YOUR CODE HERE"
   ]
  },
  {
   "cell_type": "markdown",
   "id": "ccdeeb0f",
   "metadata": {},
   "source": [
    "### 2.2 Create (X,y) sets"
   ]
  },
  {
   "cell_type": "markdown",
   "id": "39fe8c8f",
   "metadata": {},
   "source": [
    "👉 Now, we'll add for you some **random noise** to our images to simulate noise (that our model will try to remove later)"
   ]
  },
  {
   "cell_type": "code",
   "execution_count": 566,
   "id": "1fd79f84",
   "metadata": {
    "ExecuteTime": {
     "end_time": "2021-06-23T10:29:10.835518Z",
     "start_time": "2021-06-23T10:29:09.493359Z"
    }
   },
   "outputs": [],
   "source": [
    "NOISE_LEVEL = 0.2\n",
    "\n",
    "dataset_noisy = np.clip(\n",
    "    dataset_scaled + np.random.normal(\n",
    "        loc=0,\n",
    "        scale=NOISE_LEVEL,\n",
    "        size=dataset_scaled.shape\n",
    "    ).astype(np.float32),\n",
    "    0,\n",
    "    1\n",
    ")\n",
    "dataset_noisy.shape"
   ]
  },
  {
   "cell_type": "markdown",
   "id": "7a31c361",
   "metadata": {},
   "source": [
    "❓ **Plot a noisy image below to visualize the noise and compare it with the normal one**"
   ]
  },
  {
   "cell_type": "code",
   "execution_count": 571,
   "id": "a01e70bf",
   "metadata": {
    "ExecuteTime": {
     "end_time": "2021-06-23T10:29:55.333783Z",
     "start_time": "2021-06-23T10:29:55.096888Z"
    },
    "tags": [
     "challengify"
    ]
   },
   "outputs": [],
   "source": [
    "# YOUR CODE HERE"
   ]
  },
  {
   "cell_type": "markdown",
   "id": "3d72d4f7",
   "metadata": {},
   "source": [
    "❓ **Create your `(X_train, Y_train)`, `(X_test, Y_test)` training set for your problem**\n",
    "\n",
    "- Remember you are trying to use \"noisy\" pictures in order to predict the \"normal\" ones.\n",
    "- Keeping about `20%` of randomly sampled data as test set"
   ]
  },
  {
   "cell_type": "code",
   "execution_count": 572,
   "id": "76718804",
   "metadata": {
    "ExecuteTime": {
     "end_time": "2021-06-23T10:30:07.250213Z",
     "start_time": "2021-06-23T10:30:07.064577Z"
    },
    "tags": [
     "challengify"
    ]
   },
   "outputs": [],
   "source": [
    "# YOUR CODE HERE"
   ]
  },
  {
   "cell_type": "code",
   "execution_count": 573,
   "id": "25305b0b",
   "metadata": {
    "ExecuteTime": {
     "end_time": "2021-06-23T10:30:09.276772Z",
     "start_time": "2021-06-23T10:30:09.182183Z"
    }
   },
   "outputs": [],
   "source": [
    "from nbresult import ChallengeResult\n",
    "result = ChallengeResult(\n",
    "    \"preprocessing\",\n",
    "    X_train_shape = X_train.shape,\n",
    "    Y_train_shape = Y_train.shape,\n",
    "    X_std = X_train[:,:,:,0].std(),\n",
    "    Y_std = Y_train[:,:,:,0].std(),\n",
    "    first_image = Y_train[0]\n",
    ")\n",
    "result.write()"
   ]
  },
  {
   "cell_type": "markdown",
   "id": "34d0de6c",
   "metadata": {},
   "source": [
    "## 3. Convolutional Neural Network\n",
    "\n",
    "A commonly used neural network architecture for image denoising is the __AutoEncoder__.\n",
    "\n",
    "<img src='https://github.com/lewagon/data-images/blob/master/DL/autoencoder.png?raw=true'>\n",
    "\n",
    "Its goal is to learn a compact representation of your data to reconstruct them as precisely as possible.  \n",
    "The loss for such model must incentivize it to have __an output as close to the input as possible__.\n",
    "\n",
    "For this challenge, __you will only be asked to code the Encoder part of the network__, since building a Decoder leverages layers architectures you are not familiar with (yet)."
   ]
  },
  {
   "cell_type": "markdown",
   "id": "a82ac7a1",
   "metadata": {},
   "source": [
    "👉 Run this code below if you haven't managed to build your own (X,Y) training sets. This will load them as solution\n",
    "\n",
    "```python\n",
    "! curl https://wagon-public-datasets.s3.amazonaws.com/certification_france_2021_q2/data_painting_solution.pickle > data_painting_solution.pickle\n",
    "\n",
    "import pickle\n",
    "with open(\"data_painting_solution.pickle\", \"rb\") as file:\n",
    "    (X_train, Y_train, X_test, Y_test) = pickle.load(file)\n",
    "    \n",
    "! rm data_painting_solution.pickle\n",
    "```"
   ]
  },
  {
   "cell_type": "markdown",
   "id": "0453fe06",
   "metadata": {},
   "source": [
    "### 3.1 Architecture"
   ]
  },
  {
   "cell_type": "markdown",
   "id": "a2ea5abf",
   "metadata": {},
   "source": [
    "👉 Run the cell below that defines the decoder"
   ]
  },
  {
   "cell_type": "code",
   "execution_count": 575,
   "id": "a041216f",
   "metadata": {
    "ExecuteTime": {
     "end_time": "2021-06-23T10:30:19.889423Z",
     "start_time": "2021-06-23T10:30:19.881148Z"
    }
   },
   "outputs": [],
   "source": [
    "import tensorflow as tf\n",
    "from tensorflow.keras import layers, losses, Sequential"
   ]
  },
  {
   "cell_type": "code",
   "execution_count": 576,
   "id": "aa778c4a",
   "metadata": {
    "ExecuteTime": {
     "end_time": "2021-06-23T10:30:21.897416Z",
     "start_time": "2021-06-23T10:30:21.771372Z"
    }
   },
   "outputs": [],
   "source": [
    "# We choose to compress images into a latent_dimension of size 6000\n",
    "latent_dimensions = 6000\n",
    "\n",
    "# We build a decoder that takes 1D-vectors of size 6000 to reconstruct images of shape (120,100,3)\n",
    "decoder = Sequential(name='decoder')\n",
    "decoder.add(layers.Reshape((30, 25, 8), input_dim=latent_dimensions))\n",
    "decoder.add(layers.Conv2DTranspose(filters=16, kernel_size=3, strides=2, padding=\"same\", activation=\"relu\"))\n",
    "decoder.add(layers.Conv2DTranspose(filters=32, kernel_size=3, strides=2, padding=\"same\", activation=\"relu\"))\n",
    "decoder.add(layers.Conv2D(filters=3, kernel_size=3, padding=\"same\", activation=\"sigmoid\"))\n",
    "decoder.summary()"
   ]
  },
  {
   "cell_type": "markdown",
   "id": "6c6898a0",
   "metadata": {},
   "source": [
    "❓ **Now, build the `encoder` that plugs correctly with the decoder defined above**. Make sure that:\n",
    "- The output of your `encoder` is the same shape as the input of the `decoder`\n",
    "- Use a convolutional neural network architecture without transfer learning\n",
    "- Keep it simple\n",
    "- Print model summary"
   ]
  },
  {
   "cell_type": "code",
   "execution_count": 577,
   "id": "2045f4ec",
   "metadata": {
    "ExecuteTime": {
     "end_time": "2021-06-23T10:30:30.254803Z",
     "start_time": "2021-06-23T10:30:30.251255Z"
    }
   },
   "outputs": [],
   "source": [
    "# CODE HERE YOUR ENCODER ARCHITECTURE AND PRINT IT'S MODEL SUMMARY\n",
    "\n",
    "encoder = None"
   ]
  },
  {
   "cell_type": "markdown",
   "id": "637a5b6a",
   "metadata": {
    "ExecuteTime": {
     "end_time": "2021-06-22T09:32:05.702398Z",
     "start_time": "2021-06-22T09:32:05.696251Z"
    }
   },
   "source": [
    "👉 **Test your encoder below**"
   ]
  },
  {
   "cell_type": "code",
   "execution_count": 579,
   "id": "c5222bca",
   "metadata": {
    "ExecuteTime": {
     "end_time": "2021-06-23T10:30:31.061011Z",
     "start_time": "2021-06-23T10:30:30.994105Z"
    }
   },
   "outputs": [],
   "source": [
    "# HERE WE BUILD THE AUTO-ENCODER (ENCODER + DECODER) FOR YOU. IT SHOULD PRINT A NICE SUMMARY\n",
    "from tensorflow.keras.models import Model\n",
    "\n",
    "x = layers.Input(shape=(120, 100, 3))\n",
    "autoencoder = Model(x, decoder(encoder(x)), name=\"autoencoder\")\n",
    "autoencoder.summary()"
   ]
  },
  {
   "cell_type": "markdown",
   "id": "85758852",
   "metadata": {},
   "source": [
    "### 3.2 Training"
   ]
  },
  {
   "cell_type": "markdown",
   "id": "4fb0f3c1",
   "metadata": {},
   "source": [
    "❓ **Before training the autoencoder, evaluate your baseline score**\n",
    "- We will use the mean absolute error in this challenge\n",
    "- Compute the baseline score on your test set in the \"stupid\" case where you don't manage to de-noise anything at all.\n",
    "- Store the result under `score_baseline`"
   ]
  },
  {
   "cell_type": "code",
   "execution_count": 580,
   "id": "d589a9bd",
   "metadata": {
    "ExecuteTime": {
     "end_time": "2021-06-23T10:30:32.490685Z",
     "start_time": "2021-06-23T10:30:32.424055Z"
    },
    "tags": [
     "challengify"
    ]
   },
   "outputs": [],
   "source": [
    "# YOUR CODE HERE"
   ]
  },
  {
   "cell_type": "markdown",
   "id": "def7c160",
   "metadata": {},
   "source": [
    "❓ Now, **train your autoencoder**\n",
    "\n",
    "- Use an appropriate loss\n",
    "- Adapt the learning rate of your optimizer if convergence is too slow/fast\n",
    "- Make sure your model does not overfit with appropriate control techniques\n",
    "\n",
    "💡 You will not be judged by the computing power of your computer, you can reach decent performance in less than 5 minutes of training without GPUs."
   ]
  },
  {
   "cell_type": "code",
   "execution_count": 581,
   "id": "ac5ec508",
   "metadata": {
    "ExecuteTime": {
     "end_time": "2021-06-23T10:30:32.996335Z",
     "start_time": "2021-06-23T10:30:32.977099Z"
    },
    "tags": [
     "challengify"
    ]
   },
   "outputs": [],
   "source": [
    "# YOUR CODE HERE"
   ]
  },
  {
   "cell_type": "markdown",
   "id": "ef3ef73b",
   "metadata": {},
   "source": [
    "❓ **Plot your training and validation loss at each epoch using the cell below**"
   ]
  },
  {
   "cell_type": "code",
   "execution_count": 583,
   "id": "a7e61180",
   "metadata": {
    "ExecuteTime": {
     "end_time": "2021-06-23T10:33:22.463034Z",
     "start_time": "2021-06-23T10:33:22.422164Z"
    }
   },
   "outputs": [],
   "source": [
    "# Plot below your train/val loss history\n",
    "# YOUR CODE HERE\n",
    "# YOUR CODE HERE\n",
    "# YOUR CODE HERE\n",
    "\n",
    "\n",
    "# Run also this code to save figure as jpg in path below (it's your job to ensure it works)\n",
    "fig = plt.gcf()\n",
    "plt.savefig(\"tests/history.png\")"
   ]
  },
  {
   "cell_type": "markdown",
   "id": "11c8d885",
   "metadata": {},
   "source": [
    "❓ **Evaluate your performances on test set**\n",
    "- Compute your de-noised test set `Y_pred` \n",
    "- Store your test score as `score_test`\n",
    "- Plot a de-noised image from your test set and compare it with the original and noisy one using the cell below"
   ]
  },
  {
   "cell_type": "code",
   "execution_count": 585,
   "id": "c13d748f",
   "metadata": {
    "ExecuteTime": {
     "end_time": "2021-06-23T10:33:23.147732Z",
     "start_time": "2021-06-23T10:33:22.679613Z"
    },
    "tags": [
     "challengify"
    ]
   },
   "outputs": [],
   "source": [
    "# YOUR CODE HERE"
   ]
  },
  {
   "cell_type": "code",
   "execution_count": 591,
   "id": "60816a03",
   "metadata": {
    "ExecuteTime": {
     "end_time": "2021-06-23T10:34:10.656669Z",
     "start_time": "2021-06-23T10:34:10.159522Z"
    }
   },
   "outputs": [],
   "source": [
    "# RUN THIS CELL TO CHECK YOUR RESULTS\n",
    "idx = 0\n",
    "\n",
    "fig, axs = plt.subplots(1,3, figsize=(10,5))\n",
    "axs[0].imshow(Y_test[idx])\n",
    "axs[0].set_title(\"Clean image.\")\n",
    "\n",
    "axs[1].imshow(X_test[idx])\n",
    "axs[1].set_title(\"Noisy image.\")\n",
    "\n",
    "axs[2].imshow(Y_pred[idx])\n",
    "axs[2].set_title(\"Prediction.\")\n",
    "\n",
    "# Run this to save your results for correction\n",
    "plt.savefig('tests/image_denoised.png')"
   ]
  },
  {
   "cell_type": "markdown",
   "id": "fed16a58",
   "metadata": {},
   "source": [
    "🧪 **Send your results below**"
   ]
  },
  {
   "cell_type": "code",
   "execution_count": 588,
   "id": "3ce318da",
   "metadata": {
    "ExecuteTime": {
     "end_time": "2021-06-23T10:33:23.944158Z",
     "start_time": "2021-06-23T10:33:23.936725Z"
    }
   },
   "outputs": [],
   "source": [
    "from nbresult import ChallengeResult\n",
    "\n",
    "result = ChallengeResult(\n",
    "    \"network\",\n",
    "    input_shape = list(encoder.input.shape),\n",
    "    output_shape = list(encoder.output.shape),\n",
    "    layer_names = [layer.name for layer in encoder.layers],\n",
    "    trainable_params = sum([tf.size(w_matrix).numpy() for w_matrix in encoder.trainable_variables]),\n",
    "    score_baseline = score_baseline,\n",
    "    score_test = score_test,\n",
    ")\n",
    "result.write()"
   ]
  }
 ],
 "metadata": {
  "kernelspec": {
   "display_name": "Python 3",
   "language": "python",
   "name": "python3"
  },
  "language_info": {
   "codemirror_mode": {
    "name": "ipython",
    "version": 3
   },
   "file_extension": ".py",
   "mimetype": "text/x-python",
   "name": "python",
   "nbconvert_exporter": "python",
   "pygments_lexer": "ipython3",
   "version": "3.8.6"
  },
  "toc": {
   "base_numbering": 1,
   "nav_menu": {},
   "number_sections": false,
   "sideBar": true,
   "skip_h1_title": false,
   "title_cell": "Table of Contents",
   "title_sidebar": "Contents",
   "toc_cell": false,
   "toc_position": {},
   "toc_section_display": true,
   "toc_window_display": true
  }
 },
 "nbformat": 4,
 "nbformat_minor": 5
}
